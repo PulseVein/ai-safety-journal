{
 "cells": [
  {
   "cell_type": "markdown",
   "id": "9ad69187",
   "metadata": {},
   "source": []
  },
  {
   "cell_type": "markdown",
   "id": "46162f08",
   "metadata": {},
   "source": []
  }
 ],
 "metadata": {
  "language_info": {
   "name": "python"
  }
 },
 "nbformat": 4,
 "nbformat_minor": 5
}
